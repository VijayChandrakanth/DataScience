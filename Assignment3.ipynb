{
 "cells": [
  {
   "cell_type": "markdown",
   "id": "60b4fb79",
   "metadata": {},
   "source": [
    "## Qn 2:"
   ]
  },
  {
   "cell_type": "code",
   "execution_count": 23,
   "id": "35e049f6",
   "metadata": {},
   "outputs": [],
   "source": [
    "def gen_fibonacci(n):\n",
    "    a=0\n",
    "    b=1\n",
    "    for i in range(n):\n",
    "            c = a + b\n",
    "            a = b\n",
    "            b = c\n",
    "            yield b"
   ]
  },
  {
   "cell_type": "code",
   "execution_count": 24,
   "id": "c30a3db3",
   "metadata": {},
   "outputs": [],
   "source": [
    "fib_var = gen_fibonacci(5)"
   ]
  },
  {
   "cell_type": "code",
   "execution_count": 25,
   "id": "b2dc3b38",
   "metadata": {},
   "outputs": [
    {
     "name": "stdout",
     "output_type": "stream",
     "text": [
      "1\n"
     ]
    }
   ],
   "source": [
    "print(next(fib_var))"
   ]
  },
  {
   "cell_type": "code",
   "execution_count": 26,
   "id": "82a16003",
   "metadata": {},
   "outputs": [
    {
     "name": "stdout",
     "output_type": "stream",
     "text": [
      "2\n"
     ]
    }
   ],
   "source": [
    "print(next(fib_var))"
   ]
  },
  {
   "cell_type": "code",
   "execution_count": 27,
   "id": "7a3a950c",
   "metadata": {},
   "outputs": [
    {
     "name": "stdout",
     "output_type": "stream",
     "text": [
      "3\n"
     ]
    }
   ],
   "source": [
    "print(next(fib_var))"
   ]
  },
  {
   "cell_type": "code",
   "execution_count": 28,
   "id": "cf6e7862",
   "metadata": {},
   "outputs": [
    {
     "name": "stdout",
     "output_type": "stream",
     "text": [
      "5\n"
     ]
    }
   ],
   "source": [
    "print(next(fib_var))"
   ]
  },
  {
   "cell_type": "code",
   "execution_count": 29,
   "id": "96191ea4",
   "metadata": {},
   "outputs": [
    {
     "name": "stdout",
     "output_type": "stream",
     "text": [
      "8\n"
     ]
    }
   ],
   "source": [
    "print(next(fib_var))"
   ]
  },
  {
   "cell_type": "code",
   "execution_count": 30,
   "id": "e0ff49f2",
   "metadata": {},
   "outputs": [
    {
     "ename": "StopIteration",
     "evalue": "",
     "output_type": "error",
     "traceback": [
      "\u001b[1;31m---------------------------------------------------------------------------\u001b[0m",
      "\u001b[1;31mStopIteration\u001b[0m                             Traceback (most recent call last)",
      "\u001b[1;32m<ipython-input-30-f50538c01026>\u001b[0m in \u001b[0;36m<module>\u001b[1;34m\u001b[0m\n\u001b[1;32m----> 1\u001b[1;33m \u001b[0mprint\u001b[0m\u001b[1;33m(\u001b[0m\u001b[0mnext\u001b[0m\u001b[1;33m(\u001b[0m\u001b[0mfib_var\u001b[0m\u001b[1;33m)\u001b[0m\u001b[1;33m)\u001b[0m\u001b[1;33m\u001b[0m\u001b[1;33m\u001b[0m\u001b[0m\n\u001b[0m",
      "\u001b[1;31mStopIteration\u001b[0m: "
     ]
    }
   ],
   "source": [
    "print(next(fib_var))"
   ]
  },
  {
   "cell_type": "markdown",
   "id": "0f60594a",
   "metadata": {},
   "source": [
    "## Qn 3:"
   ]
  },
  {
   "cell_type": "code",
   "execution_count": 69,
   "id": "4f182dec",
   "metadata": {},
   "outputs": [],
   "source": [
    "my_list = [1,2,3,4]"
   ]
  },
  {
   "cell_type": "code",
   "execution_count": 70,
   "id": "a48e9132",
   "metadata": {},
   "outputs": [],
   "source": [
    "my_iter = iter(my_list[::-1])"
   ]
  },
  {
   "cell_type": "code",
   "execution_count": 71,
   "id": "5314977b",
   "metadata": {},
   "outputs": [
    {
     "name": "stdout",
     "output_type": "stream",
     "text": [
      "4\n"
     ]
    }
   ],
   "source": [
    "print(next(my_iter))"
   ]
  },
  {
   "cell_type": "code",
   "execution_count": 72,
   "id": "8ea2b13c",
   "metadata": {},
   "outputs": [
    {
     "name": "stdout",
     "output_type": "stream",
     "text": [
      "3\n"
     ]
    }
   ],
   "source": [
    "print(next(my_iter))"
   ]
  },
  {
   "cell_type": "code",
   "execution_count": 73,
   "id": "c6023983",
   "metadata": {},
   "outputs": [
    {
     "name": "stdout",
     "output_type": "stream",
     "text": [
      "2\n"
     ]
    }
   ],
   "source": [
    "print(next(my_iter))"
   ]
  },
  {
   "cell_type": "code",
   "execution_count": 74,
   "id": "09519eda",
   "metadata": {},
   "outputs": [
    {
     "name": "stdout",
     "output_type": "stream",
     "text": [
      "1\n"
     ]
    }
   ],
   "source": [
    "print(next(my_iter))"
   ]
  },
  {
   "cell_type": "code",
   "execution_count": 75,
   "id": "d636dfc4",
   "metadata": {},
   "outputs": [
    {
     "ename": "StopIteration",
     "evalue": "",
     "output_type": "error",
     "traceback": [
      "\u001b[1;31m---------------------------------------------------------------------------\u001b[0m",
      "\u001b[1;31mStopIteration\u001b[0m                             Traceback (most recent call last)",
      "\u001b[1;32m<ipython-input-75-06f360df9455>\u001b[0m in \u001b[0;36m<module>\u001b[1;34m\u001b[0m\n\u001b[1;32m----> 1\u001b[1;33m \u001b[0mprint\u001b[0m\u001b[1;33m(\u001b[0m\u001b[0mnext\u001b[0m\u001b[1;33m(\u001b[0m\u001b[0mmy_iter\u001b[0m\u001b[1;33m)\u001b[0m\u001b[1;33m)\u001b[0m\u001b[1;33m\u001b[0m\u001b[1;33m\u001b[0m\u001b[0m\n\u001b[0m",
      "\u001b[1;31mStopIteration\u001b[0m: "
     ]
    }
   ],
   "source": [
    "print(next(my_iter))"
   ]
  },
  {
   "cell_type": "markdown",
   "id": "4684e62e",
   "metadata": {},
   "source": [
    "## Qn 5:\n"
   ]
  },
  {
   "cell_type": "markdown",
   "id": "6b26a5ed",
   "metadata": {},
   "source": [
    "### Method 1:"
   ]
  },
  {
   "cell_type": "code",
   "execution_count": 80,
   "id": "8ede3ecf",
   "metadata": {},
   "outputs": [],
   "source": [
    "tuple1 = (1,2,[3,4,5])"
   ]
  },
  {
   "cell_type": "code",
   "execution_count": 82,
   "id": "e52e32b0",
   "metadata": {},
   "outputs": [],
   "source": [
    "tuple1[2][0]=4"
   ]
  },
  {
   "cell_type": "code",
   "execution_count": 83,
   "id": "cdb7e7f7",
   "metadata": {},
   "outputs": [
    {
     "data": {
      "text/plain": [
       "(1, 2, [4, 4, 5])"
      ]
     },
     "execution_count": 83,
     "metadata": {},
     "output_type": "execute_result"
    }
   ],
   "source": [
    "tuple1"
   ]
  },
  {
   "cell_type": "markdown",
   "id": "ac0711fe",
   "metadata": {},
   "source": [
    "### Method 2:"
   ]
  },
  {
   "cell_type": "code",
   "execution_count": 84,
   "id": "5a34bdea",
   "metadata": {},
   "outputs": [],
   "source": [
    "tuple2 = (1,2,3)"
   ]
  },
  {
   "cell_type": "code",
   "execution_count": 85,
   "id": "acac2d93",
   "metadata": {},
   "outputs": [],
   "source": [
    "temp_var = list(tuple2)"
   ]
  },
  {
   "cell_type": "code",
   "execution_count": 86,
   "id": "193421f7",
   "metadata": {},
   "outputs": [
    {
     "data": {
      "text/plain": [
       "[1, 2, 3]"
      ]
     },
     "execution_count": 86,
     "metadata": {},
     "output_type": "execute_result"
    }
   ],
   "source": [
    "temp_var"
   ]
  },
  {
   "cell_type": "code",
   "execution_count": 87,
   "id": "affe5aeb",
   "metadata": {},
   "outputs": [],
   "source": [
    "temp_var[1] = 4"
   ]
  },
  {
   "cell_type": "code",
   "execution_count": 88,
   "id": "f30eb5e7",
   "metadata": {},
   "outputs": [],
   "source": [
    "tuple2 = tuple(temp_var)"
   ]
  },
  {
   "cell_type": "code",
   "execution_count": 89,
   "id": "fc740d08",
   "metadata": {},
   "outputs": [
    {
     "data": {
      "text/plain": [
       "(1, 4, 3)"
      ]
     },
     "execution_count": 89,
     "metadata": {},
     "output_type": "execute_result"
    }
   ],
   "source": [
    "tuple2"
   ]
  },
  {
   "cell_type": "markdown",
   "id": "673bf28e",
   "metadata": {},
   "source": [
    "### Method 3:"
   ]
  },
  {
   "cell_type": "code",
   "execution_count": 90,
   "id": "9b272e9b",
   "metadata": {},
   "outputs": [],
   "source": [
    "tuple3 = (1,2,3)"
   ]
  },
  {
   "cell_type": "code",
   "execution_count": 91,
   "id": "a2c6cfc6",
   "metadata": {},
   "outputs": [],
   "source": [
    "x = list(tuple3)"
   ]
  },
  {
   "cell_type": "code",
   "execution_count": 92,
   "id": "18d64185",
   "metadata": {},
   "outputs": [],
   "source": [
    "x.append(4)"
   ]
  },
  {
   "cell_type": "code",
   "execution_count": 93,
   "id": "43e88571",
   "metadata": {},
   "outputs": [],
   "source": [
    "tuple3 = tuple(x)\n"
   ]
  },
  {
   "cell_type": "code",
   "execution_count": 94,
   "id": "dfd112d2",
   "metadata": {},
   "outputs": [
    {
     "data": {
      "text/plain": [
       "(1, 2, 3, 4)"
      ]
     },
     "execution_count": 94,
     "metadata": {},
     "output_type": "execute_result"
    }
   ],
   "source": [
    "tuple3"
   ]
  },
  {
   "cell_type": "code",
   "execution_count": null,
   "id": "d7e5fa20",
   "metadata": {},
   "outputs": [],
   "source": []
  }
 ],
 "metadata": {
  "kernelspec": {
   "display_name": "Python 3",
   "language": "python",
   "name": "python3"
  },
  "language_info": {
   "codemirror_mode": {
    "name": "ipython",
    "version": 3
   },
   "file_extension": ".py",
   "mimetype": "text/x-python",
   "name": "python",
   "nbconvert_exporter": "python",
   "pygments_lexer": "ipython3",
   "version": "3.8.8"
  }
 },
 "nbformat": 4,
 "nbformat_minor": 5
}
