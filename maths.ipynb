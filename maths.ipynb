{
 "cells": [
  {
   "cell_type": "code",
   "execution_count": 7,
   "id": "39a371c7",
   "metadata": {},
   "outputs": [],
   "source": [
    "from calc import fact"
   ]
  },
  {
   "cell_type": "code",
   "execution_count": 8,
   "id": "15358495",
   "metadata": {},
   "outputs": [
    {
     "data": {
      "text/plain": [
       "720"
      ]
     },
     "execution_count": 8,
     "metadata": {},
     "output_type": "execute_result"
    }
   ],
   "source": [
    "fact(6)"
   ]
  },
  {
   "cell_type": "code",
   "execution_count": 9,
   "id": "ccc42f6e",
   "metadata": {},
   "outputs": [],
   "source": [
    "from calc import temp_conversion"
   ]
  },
  {
   "cell_type": "code",
   "execution_count": 10,
   "id": "257776c1",
   "metadata": {},
   "outputs": [
    {
     "data": {
      "text/plain": [
       "82.4"
      ]
     },
     "execution_count": 10,
     "metadata": {},
     "output_type": "execute_result"
    }
   ],
   "source": [
    "temp_conversion(28)"
   ]
  },
  {
   "cell_type": "code",
   "execution_count": null,
   "id": "8899adf0",
   "metadata": {},
   "outputs": [],
   "source": []
  }
 ],
 "metadata": {
  "kernelspec": {
   "display_name": "Python 3",
   "language": "python",
   "name": "python3"
  },
  "language_info": {
   "codemirror_mode": {
    "name": "ipython",
    "version": 3
   },
   "file_extension": ".py",
   "mimetype": "text/x-python",
   "name": "python",
   "nbconvert_exporter": "python",
   "pygments_lexer": "ipython3",
   "version": "3.8.8"
  }
 },
 "nbformat": 4,
 "nbformat_minor": 5
}
