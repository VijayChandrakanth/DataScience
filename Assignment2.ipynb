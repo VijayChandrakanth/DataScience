{
 "cells": [
  {
   "cell_type": "markdown",
   "id": "d85ae3d9",
   "metadata": {},
   "source": [
    "## Qn 1:"
   ]
  },
  {
   "cell_type": "code",
   "execution_count": 12,
   "id": "809f45f9",
   "metadata": {},
   "outputs": [
    {
     "name": "stdout",
     "output_type": "stream",
     "text": [
      "Enter first number:6\n",
      "Enter second number:7\n",
      "Sum of 6 and 7 is : 13\n"
     ]
    }
   ],
   "source": [
    "num1 = int(input(\"Enter first number:\"))\n",
    "num2 = int(input(\"Enter second number:\"))\n",
    "def addition(num1,num2):\n",
    "    sumoutput = num1+num2\n",
    "    print(\"Sum of\",num1 ,\"and\",num2 ,\"is :\", sumoutput)\n",
    "addition(num1,num2)"
   ]
  },
  {
   "cell_type": "markdown",
   "id": "53bbaaaa",
   "metadata": {},
   "source": [
    "## Qn 2:"
   ]
  },
  {
   "cell_type": "code",
   "execution_count": 13,
   "id": "f268f186",
   "metadata": {},
   "outputs": [
    {
     "ename": "TypeError",
     "evalue": "unsupported operand type(s) for +: 'int' and 'str'",
     "output_type": "error",
     "traceback": [
      "\u001b[1;31m---------------------------------------------------------------------------\u001b[0m",
      "\u001b[1;31mTypeError\u001b[0m                                 Traceback (most recent call last)",
      "\u001b[1;32m~\\AppData\\Local\\Temp/ipykernel_35532/3622610120.py\u001b[0m in \u001b[0;36m<module>\u001b[1;34m\u001b[0m\n\u001b[1;32m----> 1\u001b[1;33m \u001b[1;36m1\u001b[0m \u001b[1;33m+\u001b[0m \u001b[1;34m'2'\u001b[0m\u001b[1;33m\u001b[0m\u001b[1;33m\u001b[0m\u001b[0m\n\u001b[0m",
      "\u001b[1;31mTypeError\u001b[0m: unsupported operand type(s) for +: 'int' and 'str'"
     ]
    }
   ],
   "source": [
    "1 + '2'"
   ]
  },
  {
   "cell_type": "code",
   "execution_count": 14,
   "id": "fc655676",
   "metadata": {},
   "outputs": [
    {
     "ename": "TypeError",
     "evalue": "can only concatenate str (not \"int\") to str",
     "output_type": "error",
     "traceback": [
      "\u001b[1;31m---------------------------------------------------------------------------\u001b[0m",
      "\u001b[1;31mTypeError\u001b[0m                                 Traceback (most recent call last)",
      "\u001b[1;32m~\\AppData\\Local\\Temp/ipykernel_35532/1877764962.py\u001b[0m in \u001b[0;36m<module>\u001b[1;34m\u001b[0m\n\u001b[1;32m----> 1\u001b[1;33m \u001b[1;34m'2'\u001b[0m \u001b[1;33m+\u001b[0m \u001b[1;36m1\u001b[0m\u001b[1;33m\u001b[0m\u001b[1;33m\u001b[0m\u001b[0m\n\u001b[0m",
      "\u001b[1;31mTypeError\u001b[0m: can only concatenate str (not \"int\") to str"
     ]
    }
   ],
   "source": [
    "'2' + 1"
   ]
  },
  {
   "cell_type": "markdown",
   "id": "5bd27a81",
   "metadata": {},
   "source": [
    "## Qn 3:"
   ]
  },
  {
   "cell_type": "code",
   "execution_count": 17,
   "id": "9816ddc2",
   "metadata": {},
   "outputs": [
    {
     "name": "stdout",
     "output_type": "stream",
     "text": [
      "False\n"
     ]
    }
   ],
   "source": [
    "strvar = \"Data Science\"\n",
    "print('s' in strvar)"
   ]
  },
  {
   "cell_type": "markdown",
   "id": "641c83ac",
   "metadata": {},
   "source": [
    "## Qn 4:"
   ]
  },
  {
   "cell_type": "code",
   "execution_count": 20,
   "id": "b1ee2052",
   "metadata": {},
   "outputs": [
    {
     "data": {
      "text/plain": [
       "True"
      ]
     },
     "execution_count": 20,
     "metadata": {},
     "output_type": "execute_result"
    }
   ],
   "source": [
    "numlist = [1,3,4,5,1]\n",
    "def checklist (numlist):\n",
    "    if numlist[0] == numlist[len(numlist)-1]:\n",
    "        return True\n",
    "    else:\n",
    "        return False\n",
    "checklist(numlist)"
   ]
  },
  {
   "cell_type": "code",
   "execution_count": 21,
   "id": "9776c72c",
   "metadata": {},
   "outputs": [
    {
     "data": {
      "text/plain": [
       "False"
      ]
     },
     "execution_count": 21,
     "metadata": {},
     "output_type": "execute_result"
    }
   ],
   "source": [
    "numlist = [1,3,4,5,2]\n",
    "def checklist (numlist):\n",
    "    if numlist[0] == numlist[len(numlist)-1]:\n",
    "        return True\n",
    "    else:\n",
    "        return False\n",
    "checklist(numlist)"
   ]
  },
  {
   "cell_type": "markdown",
   "id": "e2adf568",
   "metadata": {},
   "source": [
    "## Qn 5:"
   ]
  },
  {
   "cell_type": "code",
   "execution_count": 26,
   "id": "41aedd83",
   "metadata": {},
   "outputs": [
    {
     "name": "stdout",
     "output_type": "stream",
     "text": [
      "10\n",
      "20\n",
      "55\n"
     ]
    }
   ],
   "source": [
    "l1 = [10,20,33,46,55]\n",
    "for i in l1:\n",
    "    if i%5 == 0:\n",
    "        print (i)\n",
    "        "
   ]
  },
  {
   "cell_type": "markdown",
   "id": "3651223a",
   "metadata": {},
   "source": [
    "## Qn 6:"
   ]
  },
  {
   "cell_type": "code",
   "execution_count": 5,
   "id": "658eb3b8",
   "metadata": {},
   "outputs": [],
   "source": [
    "\n",
    "def calculation():\n",
    "    x = int(input('Enter first num:'))\n",
    "    y = int(input('Enter second num:'))\n",
    "    return x+y, x-y\n"
   ]
  },
  {
   "cell_type": "code",
   "execution_count": 6,
   "id": "c7918905",
   "metadata": {},
   "outputs": [
    {
     "name": "stdout",
     "output_type": "stream",
     "text": [
      "Enter first num:6\n",
      "Enter second num:2\n"
     ]
    },
    {
     "data": {
      "text/plain": [
       "(8, 4)"
      ]
     },
     "execution_count": 6,
     "metadata": {},
     "output_type": "execute_result"
    }
   ],
   "source": [
    "calculation()"
   ]
  },
  {
   "cell_type": "markdown",
   "id": "b2a9d157",
   "metadata": {},
   "source": [
    "## Qn 7:"
   ]
  },
  {
   "cell_type": "code",
   "execution_count": 7,
   "id": "1f7a349d",
   "metadata": {},
   "outputs": [
    {
     "ename": "SyntaxError",
     "evalue": "non-default argument follows default argument (Temp/ipykernel_18392/3763479287.py, line 1)",
     "output_type": "error",
     "traceback": [
      "\u001b[1;36m  File \u001b[1;32m\"C:\\Users\\vijay\\AppData\\Local\\Temp/ipykernel_18392/3763479287.py\"\u001b[1;36m, line \u001b[1;32m1\u001b[0m\n\u001b[1;33m    def testcheck(arg1 = 1, arg2)\u001b[0m\n\u001b[1;37m                                ^\u001b[0m\n\u001b[1;31mSyntaxError\u001b[0m\u001b[1;31m:\u001b[0m non-default argument follows default argument\n"
     ]
    }
   ],
   "source": [
    "def testcheck(arg1 = 1, arg2)"
   ]
  },
  {
   "cell_type": "markdown",
   "id": "74349e1f",
   "metadata": {},
   "source": [
    "## Qn 8:"
   ]
  },
  {
   "cell_type": "code",
   "execution_count": 8,
   "id": "10711baf",
   "metadata": {},
   "outputs": [],
   "source": [
    "#Recursion- Recursion is a technique of calling a function within the same function definition\n"
   ]
  },
  {
   "cell_type": "code",
   "execution_count": 17,
   "id": "d75e9303",
   "metadata": {},
   "outputs": [],
   "source": [
    "def out_sum(x):\n",
    "    if x==0:\n",
    "        return x\n",
    "    else:\n",
    "        return x + out_sum(x-1)"
   ]
  },
  {
   "cell_type": "code",
   "execution_count": 18,
   "id": "86c91a73",
   "metadata": {},
   "outputs": [
    {
     "data": {
      "text/plain": [
       "55"
      ]
     },
     "execution_count": 18,
     "metadata": {},
     "output_type": "execute_result"
    }
   ],
   "source": [
    "out_sum(10)"
   ]
  },
  {
   "cell_type": "markdown",
   "id": "7154d49c",
   "metadata": {},
   "source": [
    "## Qn 9:"
   ]
  },
  {
   "cell_type": "code",
   "execution_count": 24,
   "id": "aee366e0",
   "metadata": {},
   "outputs": [
    {
     "name": "stdout",
     "output_type": "stream",
     "text": [
      "[121, 2809, 441, 5929, 7569]\n"
     ]
    }
   ],
   "source": [
    "my_list = [12, 11, 53, 22, 21, 77, 87, 88, 98]\n",
    "oddsq = list(filter(lambda X:X%2!=0,my_list))\n",
    "finalout = list(map(lambda X:X**2, oddsq))\n",
    "print (finalout)"
   ]
  },
  {
   "cell_type": "markdown",
   "id": "e2ca1902",
   "metadata": {},
   "source": [
    "## Qn 10:"
   ]
  },
  {
   "cell_type": "code",
   "execution_count": 47,
   "id": "73bf491b",
   "metadata": {},
   "outputs": [],
   "source": [
    "def sample(x):\n",
    "    return x**2"
   ]
  },
  {
   "cell_type": "code",
   "execution_count": 48,
   "id": "3503ecd5",
   "metadata": {},
   "outputs": [],
   "source": [
    "new_list = [1,2,3,4]"
   ]
  },
  {
   "cell_type": "code",
   "execution_count": 49,
   "id": "b21ef8fd",
   "metadata": {},
   "outputs": [],
   "source": [
    "result = list(map(sample,new_list))"
   ]
  },
  {
   "cell_type": "code",
   "execution_count": 50,
   "id": "94dde6ff",
   "metadata": {},
   "outputs": [
    {
     "name": "stdout",
     "output_type": "stream",
     "text": [
      "[1, 4, 9, 16]\n"
     ]
    }
   ],
   "source": [
    "print(result)"
   ]
  },
  {
   "cell_type": "code",
   "execution_count": null,
   "id": "23127a7f",
   "metadata": {},
   "outputs": [],
   "source": []
  }
 ],
 "metadata": {
  "kernelspec": {
   "display_name": "Python 3 (ipykernel)",
   "language": "python",
   "name": "python3"
  },
  "language_info": {
   "codemirror_mode": {
    "name": "ipython",
    "version": 3
   },
   "file_extension": ".py",
   "mimetype": "text/x-python",
   "name": "python",
   "nbconvert_exporter": "python",
   "pygments_lexer": "ipython3",
   "version": "3.9.7"
  }
 },
 "nbformat": 4,
 "nbformat_minor": 5
}
