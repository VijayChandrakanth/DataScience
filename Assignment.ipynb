{
 "cells": [
  {
   "cell_type": "markdown",
   "id": "9cf316b5",
   "metadata": {},
   "source": [
    "## Qn 1:"
   ]
  },
  {
   "cell_type": "code",
   "execution_count": 1,
   "id": "af329d1b",
   "metadata": {},
   "outputs": [],
   "source": [
    "import os"
   ]
  },
  {
   "cell_type": "code",
   "execution_count": 2,
   "id": "8690eec3",
   "metadata": {},
   "outputs": [
    {
     "data": {
      "text/plain": [
       "'C:\\\\Users\\\\vijay\\\\Data Science\\\\Python'"
      ]
     },
     "execution_count": 2,
     "metadata": {},
     "output_type": "execute_result"
    }
   ],
   "source": [
    "os.getcwd()"
   ]
  },
  {
   "cell_type": "code",
   "execution_count": 3,
   "id": "9ded84f1",
   "metadata": {},
   "outputs": [],
   "source": [
    "os.chdir('C:/Users/vijay/Data Science')"
   ]
  },
  {
   "cell_type": "code",
   "execution_count": 4,
   "id": "0fd49e1e",
   "metadata": {},
   "outputs": [
    {
     "data": {
      "text/plain": [
       "'C:\\\\Users\\\\vijay\\\\Data Science'"
      ]
     },
     "execution_count": 4,
     "metadata": {},
     "output_type": "execute_result"
    }
   ],
   "source": [
    "os.getcwd()"
   ]
  },
  {
   "cell_type": "code",
   "execution_count": 5,
   "id": "5d2685e7",
   "metadata": {},
   "outputs": [],
   "source": [
    "os.chdir('C:/Users/vijay/Data Science/Python')"
   ]
  },
  {
   "cell_type": "code",
   "execution_count": 6,
   "id": "3e4f1c5b",
   "metadata": {},
   "outputs": [
    {
     "data": {
      "text/plain": [
       "'C:\\\\Users\\\\vijay\\\\Data Science\\\\Python'"
      ]
     },
     "execution_count": 6,
     "metadata": {},
     "output_type": "execute_result"
    }
   ],
   "source": [
    "os.getcwd()"
   ]
  },
  {
   "cell_type": "markdown",
   "id": "4766242a",
   "metadata": {},
   "source": [
    "## Qn 2:"
   ]
  },
  {
   "cell_type": "code",
   "execution_count": 11,
   "id": "d5768d2c",
   "metadata": {},
   "outputs": [],
   "source": [
    "var1 = 'Hello'\n",
    "var2 = 10\n",
    "var3 = 8.5"
   ]
  },
  {
   "cell_type": "code",
   "execution_count": 12,
   "id": "8cb93fa9",
   "metadata": {},
   "outputs": [
    {
     "name": "stdout",
     "output_type": "stream",
     "text": [
      "Hello\n"
     ]
    }
   ],
   "source": [
    "print(var1)"
   ]
  },
  {
   "cell_type": "code",
   "execution_count": 13,
   "id": "a7bd3dae",
   "metadata": {},
   "outputs": [],
   "source": [
    "del var1, var2, var3"
   ]
  },
  {
   "cell_type": "code",
   "execution_count": 14,
   "id": "dd3e1d9b",
   "metadata": {},
   "outputs": [
    {
     "ename": "NameError",
     "evalue": "name 'var1' is not defined",
     "output_type": "error",
     "traceback": [
      "\u001b[1;31m---------------------------------------------------------------------------\u001b[0m",
      "\u001b[1;31mNameError\u001b[0m                                 Traceback (most recent call last)",
      "\u001b[1;32m~\\AppData\\Local\\Temp/ipykernel_24228/2529670587.py\u001b[0m in \u001b[0;36m<module>\u001b[1;34m\u001b[0m\n\u001b[1;32m----> 1\u001b[1;33m \u001b[0mprint\u001b[0m\u001b[1;33m(\u001b[0m\u001b[0mvar1\u001b[0m\u001b[1;33m)\u001b[0m\u001b[1;33m\u001b[0m\u001b[1;33m\u001b[0m\u001b[0m\n\u001b[0m",
      "\u001b[1;31mNameError\u001b[0m: name 'var1' is not defined"
     ]
    }
   ],
   "source": [
    "print(var1)"
   ]
  },
  {
   "cell_type": "markdown",
   "id": "a86db485",
   "metadata": {},
   "source": [
    "## Qn 3:"
   ]
  },
  {
   "cell_type": "code",
   "execution_count": 15,
   "id": "1a2fa7cf",
   "metadata": {},
   "outputs": [
    {
     "ename": "NameError",
     "evalue": "name 'a' is not defined",
     "output_type": "error",
     "traceback": [
      "\u001b[1;31m---------------------------------------------------------------------------\u001b[0m",
      "\u001b[1;31mNameError\u001b[0m                                 Traceback (most recent call last)",
      "\u001b[1;32m~\\AppData\\Local\\Temp/ipykernel_24228/812323423.py\u001b[0m in \u001b[0;36m<module>\u001b[1;34m\u001b[0m\n\u001b[1;32m----> 1\u001b[1;33m \u001b[0mlist\u001b[0m \u001b[1;33m=\u001b[0m \u001b[0ma\u001b[0m\u001b[1;33m\u001b[0m\u001b[1;33m\u001b[0m\u001b[0m\n\u001b[0m",
      "\u001b[1;31mNameError\u001b[0m: name 'a' is not defined"
     ]
    }
   ],
   "source": [
    "list = a"
   ]
  },
  {
   "cell_type": "markdown",
   "id": "6a82181b",
   "metadata": {},
   "source": [
    "## Qn 4:"
   ]
  },
  {
   "cell_type": "code",
   "execution_count": 21,
   "id": "d60c0245",
   "metadata": {},
   "outputs": [],
   "source": [
    "var4 = ( 1 + 2 + 3 +\n",
    "        4 + 5 + 6 +\n",
    "        7 )"
   ]
  },
  {
   "cell_type": "code",
   "execution_count": 22,
   "id": "d93610e9",
   "metadata": {},
   "outputs": [
    {
     "name": "stdout",
     "output_type": "stream",
     "text": [
      "28\n"
     ]
    }
   ],
   "source": [
    "print(var4)"
   ]
  },
  {
   "cell_type": "markdown",
   "id": "0b1dfc35",
   "metadata": {},
   "source": [
    "## Qn 5:"
   ]
  },
  {
   "cell_type": "code",
   "execution_count": 23,
   "id": "2871f614",
   "metadata": {},
   "outputs": [
    {
     "data": {
      "text/plain": [
       "[100,\n",
       " 108,\n",
       " 116,\n",
       " 124,\n",
       " 132,\n",
       " 140,\n",
       " 148,\n",
       " 156,\n",
       " 164,\n",
       " 172,\n",
       " 180,\n",
       " 188,\n",
       " 196,\n",
       " 204,\n",
       " 212,\n",
       " 220,\n",
       " 228,\n",
       " 236,\n",
       " 244,\n",
       " 252,\n",
       " 260,\n",
       " 268,\n",
       " 276,\n",
       " 284,\n",
       " 292,\n",
       " 300,\n",
       " 308,\n",
       " 316,\n",
       " 324,\n",
       " 332,\n",
       " 340,\n",
       " 348,\n",
       " 356,\n",
       " 364,\n",
       " 372,\n",
       " 380,\n",
       " 388,\n",
       " 396,\n",
       " 404,\n",
       " 412,\n",
       " 420,\n",
       " 428,\n",
       " 436,\n",
       " 444,\n",
       " 452,\n",
       " 460,\n",
       " 468,\n",
       " 476,\n",
       " 484,\n",
       " 492,\n",
       " 500,\n",
       " 508,\n",
       " 516,\n",
       " 524,\n",
       " 532,\n",
       " 540,\n",
       " 548,\n",
       " 556,\n",
       " 564,\n",
       " 572,\n",
       " 580,\n",
       " 588,\n",
       " 596,\n",
       " 604,\n",
       " 612,\n",
       " 620,\n",
       " 628,\n",
       " 636,\n",
       " 644,\n",
       " 652,\n",
       " 660,\n",
       " 668,\n",
       " 676,\n",
       " 684,\n",
       " 692,\n",
       " 700,\n",
       " 708,\n",
       " 716,\n",
       " 724,\n",
       " 732,\n",
       " 740,\n",
       " 748,\n",
       " 756,\n",
       " 764,\n",
       " 772,\n",
       " 780,\n",
       " 788,\n",
       " 796,\n",
       " 804,\n",
       " 812,\n",
       " 820,\n",
       " 828,\n",
       " 836,\n",
       " 844,\n",
       " 852,\n",
       " 860,\n",
       " 868,\n",
       " 876,\n",
       " 884,\n",
       " 892,\n",
       " 900,\n",
       " 908,\n",
       " 916,\n",
       " 924,\n",
       " 932,\n",
       " 940,\n",
       " 948,\n",
       " 956,\n",
       " 964,\n",
       " 972,\n",
       " 980,\n",
       " 988,\n",
       " 996]"
      ]
     },
     "execution_count": 23,
     "metadata": {},
     "output_type": "execute_result"
    }
   ],
   "source": [
    "list(range(100,1000,8))"
   ]
  },
  {
   "cell_type": "markdown",
   "id": "e3296438",
   "metadata": {},
   "source": [
    "## Qn 6:"
   ]
  },
  {
   "cell_type": "code",
   "execution_count": 28,
   "id": "6cc16f85",
   "metadata": {},
   "outputs": [
    {
     "name": "stdout",
     "output_type": "stream",
     "text": [
      "0\n",
      "1\n",
      "2\n",
      "3\n",
      "4\n",
      "5\n"
     ]
    }
   ],
   "source": [
    "for i in range(10):\n",
    "    print(i)\n",
    "    if(i == 10/2):\n",
    "        break"
   ]
  },
  {
   "cell_type": "markdown",
   "id": "fcc6ca27",
   "metadata": {},
   "source": [
    "## Qn 7:"
   ]
  },
  {
   "cell_type": "code",
   "execution_count": 29,
   "id": "24faa83e",
   "metadata": {},
   "outputs": [],
   "source": [
    "def func1():\n",
    "    \"\"\"This is a docstring\"\"\"\n",
    "    print(\"Going to print docstring\")"
   ]
  },
  {
   "cell_type": "code",
   "execution_count": 31,
   "id": "30aacaa6",
   "metadata": {},
   "outputs": [
    {
     "name": "stdout",
     "output_type": "stream",
     "text": [
      "This is a docstring\n"
     ]
    }
   ],
   "source": [
    "print(func1.__doc__)"
   ]
  },
  {
   "cell_type": "markdown",
   "id": "0c434362",
   "metadata": {},
   "source": [
    "## Qn 8:"
   ]
  },
  {
   "cell_type": "code",
   "execution_count": 32,
   "id": "879f3c60",
   "metadata": {},
   "outputs": [],
   "source": [
    "import my_package"
   ]
  },
  {
   "cell_type": "code",
   "execution_count": 33,
   "id": "dbd8e580",
   "metadata": {},
   "outputs": [],
   "source": [
    "from my_package import test_package"
   ]
  },
  {
   "cell_type": "code",
   "execution_count": 34,
   "id": "ae295159",
   "metadata": {},
   "outputs": [],
   "source": [
    "x = test_package.a\n",
    "y = test_package.b\n",
    "z = test_package.c"
   ]
  },
  {
   "cell_type": "code",
   "execution_count": 35,
   "id": "9e3a3685",
   "metadata": {},
   "outputs": [],
   "source": [
    "def findarea(a,b,c):\n",
    "    s = (a+b+c)/2\n",
    "    area = (s*(s-a)*(s-b)*(s-c))**0.5\n",
    "    return area\n"
   ]
  },
  {
   "cell_type": "code",
   "execution_count": 36,
   "id": "fff484ed",
   "metadata": {},
   "outputs": [
    {
     "data": {
      "text/plain": [
       "14.696938456699069"
      ]
     },
     "execution_count": 36,
     "metadata": {},
     "output_type": "execute_result"
    }
   ],
   "source": [
    "findarea(x,y,z)"
   ]
  },
  {
   "cell_type": "markdown",
   "id": "15e2772b",
   "metadata": {},
   "source": [
    "## Qn 9:"
   ]
  },
  {
   "cell_type": "code",
   "execution_count": 37,
   "id": "ebb46deb",
   "metadata": {},
   "outputs": [],
   "source": [
    "list_odd = list(range(0,100))"
   ]
  },
  {
   "cell_type": "code",
   "execution_count": 42,
   "id": "5dd66800",
   "metadata": {},
   "outputs": [
    {
     "data": {
      "text/plain": [
       "[1,\n",
       " 3,\n",
       " 5,\n",
       " 7,\n",
       " 9,\n",
       " 11,\n",
       " 13,\n",
       " 15,\n",
       " 17,\n",
       " 19,\n",
       " 21,\n",
       " 23,\n",
       " 25,\n",
       " 27,\n",
       " 29,\n",
       " 31,\n",
       " 33,\n",
       " 35,\n",
       " 37,\n",
       " 39,\n",
       " 41,\n",
       " 43,\n",
       " 45,\n",
       " 47,\n",
       " 49,\n",
       " 51,\n",
       " 53,\n",
       " 55,\n",
       " 57,\n",
       " 59,\n",
       " 61,\n",
       " 63,\n",
       " 65,\n",
       " 67,\n",
       " 69,\n",
       " 71,\n",
       " 73,\n",
       " 75,\n",
       " 77,\n",
       " 79,\n",
       " 81,\n",
       " 83,\n",
       " 85,\n",
       " 87,\n",
       " 89,\n",
       " 91,\n",
       " 93,\n",
       " 95,\n",
       " 97,\n",
       " 99]"
      ]
     },
     "execution_count": 42,
     "metadata": {},
     "output_type": "execute_result"
    }
   ],
   "source": [
    "[a for a in list_odd if a%2 != 0]"
   ]
  },
  {
   "cell_type": "markdown",
   "id": "95370d78",
   "metadata": {},
   "source": [
    "## Qn 10:"
   ]
  },
  {
   "cell_type": "code",
   "execution_count": 48,
   "id": "70c0aaa5",
   "metadata": {},
   "outputs": [],
   "source": [
    "name = 'Vijay Chandrakanth'\n"
   ]
  },
  {
   "cell_type": "code",
   "execution_count": 49,
   "id": "89bd7fe8",
   "metadata": {},
   "outputs": [
    {
     "data": {
      "text/plain": [
       "['V', 'j', 'y', ' ', 'C', 'h', 'n', 'd', 'r', 'k', 'n', 't', 'h']"
      ]
     },
     "execution_count": 49,
     "metadata": {},
     "output_type": "execute_result"
    }
   ],
   "source": [
    "[i for i in name if i not in ['a','e','i','o','u']]"
   ]
  },
  {
   "cell_type": "code",
   "execution_count": null,
   "id": "ba55c495",
   "metadata": {},
   "outputs": [],
   "source": []
  }
 ],
 "metadata": {
  "kernelspec": {
   "display_name": "Python 3 (ipykernel)",
   "language": "python",
   "name": "python3"
  },
  "language_info": {
   "codemirror_mode": {
    "name": "ipython",
    "version": 3
   },
   "file_extension": ".py",
   "mimetype": "text/x-python",
   "name": "python",
   "nbconvert_exporter": "python",
   "pygments_lexer": "ipython3",
   "version": "3.9.7"
  }
 },
 "nbformat": 4,
 "nbformat_minor": 5
}
