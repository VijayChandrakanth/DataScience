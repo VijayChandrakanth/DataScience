{
 "cells": [
  {
   "cell_type": "code",
   "execution_count": 18,
   "id": "cc467e44",
   "metadata": {},
   "outputs": [],
   "source": [
    "def fact(x):\n",
    "    if x==1:\n",
    "        return x\n",
    "    else:\n",
    "        return (x*fact(x-1))"
   ]
  },
  {
   "cell_type": "code",
   "execution_count": 17,
   "id": "0011e205",
   "metadata": {},
   "outputs": [],
   "source": [
    "def temp_conversion(temp):\n",
    "    return (temp*9/5)+32"
   ]
  },
  {
   "cell_type": "code",
   "execution_count": null,
   "id": "9de5fe09",
   "metadata": {},
   "outputs": [],
   "source": []
  }
 ],
 "metadata": {
  "kernelspec": {
   "display_name": "Python 3",
   "language": "python",
   "name": "python3"
  },
  "language_info": {
   "codemirror_mode": {
    "name": "ipython",
    "version": 3
   },
   "file_extension": ".py",
   "mimetype": "text/x-python",
   "name": "python",
   "nbconvert_exporter": "python",
   "pygments_lexer": "ipython3",
   "version": "3.8.8"
  }
 },
 "nbformat": 4,
 "nbformat_minor": 5
}
